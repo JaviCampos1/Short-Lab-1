{
 "cells": [
  {
   "cell_type": "markdown",
   "metadata": {},
   "source": [
    "#195783\n",
    "#Campos\n",
    "#2_BS_ITE"
   ]
  },
  {
   "cell_type": "code",
   "execution_count": 2,
   "metadata": {},
   "outputs": [
    {
     "name": "stdout",
     "output_type": "stream",
     "text": [
      "Enter the amount in US dollars: 5\n",
      "5 US dollar(s) = 250 Philippine Pesos.\n"
     ]
    }
   ],
   "source": [
    "def dollars_to_peso():\n",
    "    conversion = Dollar*50\n",
    "    return (str(Dollar) + \" US dollar(s) = \" + str(conversion) + \" Philippine Pesos.\")\n",
    "\n",
    "Dollar = int(input(\"Enter the amount in US dollars: \" ))\n",
    "x = dollars_to_peso()\n",
    "print(x)"
   ]
  },
  {
   "cell_type": "code",
   "execution_count": null,
   "metadata": {},
   "outputs": [],
   "source": [
    "Num1 = int(input())\n",
    "Num2 = int(input())\n",
    "\n",
    "print(Num1 + Num2)\n",
    "print(Num1 - Num2)\n",
    "print(Num1 * Num2)\n",
    "print(Num1 // Num2)\n",
    "print(Num1 % Num2)"
   ]
  },
  {
   "cell_type": "code",
   "execution_count": null,
   "metadata": {},
   "outputs": [],
   "source": [
    "def compute_bmi():\n",
    "    return kg / m**2\n",
    "\n",
    "def convert_cm_to_m(x):\n",
    "    m = cm / 100\n",
    "    return m\n",
    "\n",
    "kg = int(input(\"Enter kg: \" ))\n",
    "cm = int(input(\"Enter cm: \" ))\n",
    "\n",
    "m = convert_cm_to_m(cm)\n",
    "BMI = compute_bmi()\n",
    "\n",
    "print(\"BMI: \"+ str(BMI))\n",
    "    "
   ]
  }
 ],
 "metadata": {
  "kernelspec": {
   "display_name": "Python 3",
   "language": "python",
   "name": "python3"
  },
  "language_info": {
   "codemirror_mode": {
    "name": "ipython",
    "version": 3
   },
   "file_extension": ".py",
   "mimetype": "text/x-python",
   "name": "python",
   "nbconvert_exporter": "python",
   "pygments_lexer": "ipython3",
   "version": "3.8.5"
  }
 },
 "nbformat": 4,
 "nbformat_minor": 4
}
